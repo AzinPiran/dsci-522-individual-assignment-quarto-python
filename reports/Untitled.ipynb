{
 "cells": [
  {
   "cell_type": "code",
   "execution_count": 2,
   "id": "0dc42381-a469-4939-9c52-4df656449285",
   "metadata": {},
   "outputs": [
    {
     "data": {
      "text/html": [
       "<div>\n",
       "<style scoped>\n",
       "    .dataframe tbody tr th:only-of-type {\n",
       "        vertical-align: middle;\n",
       "    }\n",
       "\n",
       "    .dataframe tbody tr th {\n",
       "        vertical-align: top;\n",
       "    }\n",
       "\n",
       "    .dataframe thead th {\n",
       "        text-align: right;\n",
       "    }\n",
       "</style>\n",
       "<table border=\"1\" class=\"dataframe\">\n",
       "  <thead>\n",
       "    <tr style=\"text-align: right;\">\n",
       "      <th></th>\n",
       "      <th>Province</th>\n",
       "      <th>Std</th>\n",
       "    </tr>\n",
       "  </thead>\n",
       "  <tbody>\n",
       "    <tr>\n",
       "      <th>0</th>\n",
       "      <td>Saskatchewan</td>\n",
       "      <td>377265.575896</td>\n",
       "    </tr>\n",
       "    <tr>\n",
       "      <th>1</th>\n",
       "      <td>Ontario</td>\n",
       "      <td>266435.317269</td>\n",
       "    </tr>\n",
       "    <tr>\n",
       "      <th>2</th>\n",
       "      <td>Alberta</td>\n",
       "      <td>266063.191824</td>\n",
       "    </tr>\n",
       "    <tr>\n",
       "      <th>3</th>\n",
       "      <td>Manitoba</td>\n",
       "      <td>122403.871037</td>\n",
       "    </tr>\n",
       "    <tr>\n",
       "      <th>4</th>\n",
       "      <td>Quebec</td>\n",
       "      <td>111411.104370</td>\n",
       "    </tr>\n",
       "    <tr>\n",
       "      <th>5</th>\n",
       "      <td>New Brunswick</td>\n",
       "      <td>22019.494316</td>\n",
       "    </tr>\n",
       "    <tr>\n",
       "      <th>6</th>\n",
       "      <td>Nova Scotia</td>\n",
       "      <td>19879.253759</td>\n",
       "    </tr>\n",
       "    <tr>\n",
       "      <th>7</th>\n",
       "      <td>British Columbia</td>\n",
       "      <td>14945.664171</td>\n",
       "    </tr>\n",
       "    <tr>\n",
       "      <th>8</th>\n",
       "      <td>P.E.I.</td>\n",
       "      <td>11355.747559</td>\n",
       "    </tr>\n",
       "  </tbody>\n",
       "</table>\n",
       "</div>"
      ],
      "text/plain": [
       "           Province            Std\n",
       "0      Saskatchewan  377265.575896\n",
       "1           Ontario  266435.317269\n",
       "2           Alberta  266063.191824\n",
       "3          Manitoba  122403.871037\n",
       "4            Quebec  111411.104370\n",
       "5     New Brunswick   22019.494316\n",
       "6       Nova Scotia   19879.253759\n",
       "7  British Columbia   14945.664171\n",
       "8            P.E.I.   11355.747559"
      ]
     },
     "execution_count": 2,
     "metadata": {},
     "output_type": "execute_result"
    }
   ],
   "source": [
    "import pandas as pd\n",
    "horses_sd_table = pd.read_csv(\"../results/horses_sd.csv\")\n",
    "largest_sd = horses_sd_table['Province'].values[0]\n",
    "horses_sd_table\n"
   ]
  },
  {
   "cell_type": "code",
   "execution_count": 4,
   "id": "69178bcd-7bd2-48e1-94f2-8a064bf2f367",
   "metadata": {},
   "outputs": [
    {
     "data": {
      "text/plain": [
       "'Saskatchewan'"
      ]
     },
     "execution_count": 4,
     "metadata": {},
     "output_type": "execute_result"
    }
   ],
   "source": [
    "horses_sd_table['Province'].values[0]"
   ]
  },
  {
   "cell_type": "code",
   "execution_count": null,
   "id": "dea02423-4b4d-4902-a061-52cc32687bc6",
   "metadata": {},
   "outputs": [],
   "source": [
    "`{python} horses_sd_table['Province'].values[0]`"
   ]
  }
 ],
 "metadata": {
  "kernelspec": {
   "display_name": "Python 3 (ipykernel)",
   "language": "python",
   "name": "python3"
  },
  "language_info": {
   "codemirror_mode": {
    "name": "ipython",
    "version": 3
   },
   "file_extension": ".py",
   "mimetype": "text/x-python",
   "name": "python",
   "nbconvert_exporter": "python",
   "pygments_lexer": "ipython3",
   "version": "3.11.10"
  }
 },
 "nbformat": 4,
 "nbformat_minor": 5
}
